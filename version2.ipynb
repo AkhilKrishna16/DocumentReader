{
 "cells": [
  {
   "cell_type": "code",
   "execution_count": null,
   "metadata": {},
   "outputs": [],
   "source": [
    "import mapper\n",
    "import numpy as np\n",
    "import cv2\n",
    "import matplotlib.pyplot as plt"
   ]
  },
  {
   "cell_type": "code",
   "execution_count": null,
   "metadata": {},
   "outputs": [],
   "source": [
    "image = cv2.imread('scanned_document.jpeg')\n",
    "image = cv2.resize(image, (1300, 800))\n",
    "\n",
    "orig = image.copy()\n",
    "gray = cv2.cvtColor(image, cv2.COLOR_BGR2GRAY)\n",
    "cv2.imshow('TITLE', gray)\n",
    "\n",
    "blurred = cv2.GaussianBlur(gray, (5, 5), 0)\n",
    "cv2.imshow('Blur', blurred)\n",
    "\n",
    "edged = cv2.Canny(blurred, 30, 50)\n",
    "cv2.imshow('Canny', edged)\n",
    "\n",
    "plt.imshow(edged, cmap='gray')"
   ]
  },
  {
   "cell_type": "code",
   "execution_count": 6,
   "metadata": {},
   "outputs": [],
   "source": [
    "contours, _ = cv2.findContours(edged, cv2.RETR_LIST, cv2.CHAIN_APPROX_SIMPLE)\n",
    "\n",
    "plt.imshow(image, cmap='gray')\n",
    "plt.plot()\n",
    "\n",
    "contours = sorted(contours, key=cv2.contourArea, reverse=True)\n",
    "\n",
    "for c in contours:\n",
    "    p = cv2.arcLength(c, True)\n",
    "    approx = cv2.approxPolyDP(c, 0.02 * p, True)\n",
    "\n",
    "    if len(approx) == 4:\n",
    "        target = approx\n",
    "        break\n",
    "    \n",
    "approx = mapper.mapp(target)\n",
    "\n",
    "print(approx)\n",
    "\n",
    "pts = np.float32([[0, 0], [800, 0], [800, 800], [0, 800]])\n",
    "\n",
    "op = cv2.getPerspectiveTransform(approx, pts)\n",
    "dst = cv2.warpPerspective(orig, op, (800, 800))\n",
    "\n",
    "cv2.imshow('Scanned', dst)\n",
    "cv2.waitKey(0)\n",
    "cv2.destroyAllWindows()"
   ]
  }
 ],
 "metadata": {
  "kernelspec": {
   "display_name": "DevelopmentServer",
   "language": "python",
   "name": "python3"
  },
  "language_info": {
   "codemirror_mode": {
    "name": "ipython",
    "version": 3
   },
   "file_extension": ".py",
   "mimetype": "text/x-python",
   "name": "python",
   "nbconvert_exporter": "python",
   "pygments_lexer": "ipython3",
   "version": "3.11.7"
  }
 },
 "nbformat": 4,
 "nbformat_minor": 2
}
