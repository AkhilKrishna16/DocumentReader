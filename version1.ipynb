{
 "cells": [
  {
   "cell_type": "code",
   "execution_count": 1,
   "id": "d7db1d1a",
   "metadata": {},
   "outputs": [],
   "source": [
    "import cv2\n",
    "import numpy as np"
   ]
  },
  {
   "cell_type": "code",
   "execution_count": 2,
   "id": "a26fbcd9",
   "metadata": {},
   "outputs": [],
   "source": [
    "def detect_document(image):\n",
    "  gray = cv2.cvtColor(image, cv2.COLOR_BGR2GRAY)\n",
    "  blurred = cv2.GaussianBlur(gray, (5, 5), 0)\n",
    "\n",
    "  edges = cv2.Canny(blurred, 50, 150)\n",
    "\n",
    "  contours, _ = cv2.findContours(edges.copy(), cv2.RETR_EXTERNAL, cv2.CHAIN_APPROX_NONE)\n",
    "  contours = sorted(contours, key=cv2.contourArea, reverse=True)[:1]\n",
    "\n",
    "  for contour in contours:\n",
    "    epsilon = 0.04 * cv2.arcLength(contour, True)\n",
    "    approx = cv2.approxPolyDP(contour, epsilon, True)\n",
    "\n",
    "    cv2.drawContours(image, [approx], -1, (0, 255, 0), 2)\n",
    "\n",
    "    if len(approx) == 4:\n",
    "      x, y, w, h = cv2.boundingRect(approx)\n",
    "      roi = image[y:y + h , x:x + w]\n",
    "      return roi\n",
    "\n",
    "  return image\n"
   ]
  },
  {
   "cell_type": "code",
   "execution_count": 3,
   "id": "027c943c",
   "metadata": {},
   "outputs": [
    {
     "name": "stderr",
     "output_type": "stream",
     "text": [
      "2024-02-21 16:05:16.894 python[73849:500116] WARNING: AVCaptureDeviceTypeExternal is deprecated for Continuity Cameras. Please use AVCaptureDeviceTypeContinuityCamera and add NSCameraUseContinuityCameraDeviceType to your Info.plist.\n"
     ]
    },
    {
     "name": "stdout",
     "output_type": "stream",
     "text": [
      "Capturing mode enabled.\n",
      "Document captured.\n",
      "Capturing mode enabled.\n"
     ]
    },
    {
     "ename": "KeyboardInterrupt",
     "evalue": "",
     "output_type": "error",
     "traceback": [
      "\u001b[0;31m---------------------------------------------------------------------------\u001b[0m",
      "\u001b[0;31mKeyboardInterrupt\u001b[0m                         Traceback (most recent call last)",
      "Cell \u001b[0;32mIn[3], line 6\u001b[0m\n\u001b[1;32m      3\u001b[0m val \u001b[38;5;241m=\u001b[39m \u001b[38;5;241m0\u001b[39m\n\u001b[1;32m      5\u001b[0m \u001b[38;5;28;01mwhile\u001b[39;00m \u001b[38;5;28;01mTrue\u001b[39;00m:\n\u001b[0;32m----> 6\u001b[0m   ret, frame \u001b[38;5;241m=\u001b[39m \u001b[43mcap\u001b[49m\u001b[38;5;241;43m.\u001b[39;49m\u001b[43mread\u001b[49m\u001b[43m(\u001b[49m\u001b[43m)\u001b[49m\n\u001b[1;32m      7\u001b[0m   \u001b[38;5;28;01mif\u001b[39;00m capturing:\n\u001b[1;32m      8\u001b[0m     result_frame \u001b[38;5;241m=\u001b[39m detect_document(frame)\n",
      "\u001b[0;31mKeyboardInterrupt\u001b[0m: "
     ]
    }
   ],
   "source": [
    "cap = cv2.VideoCapture(1)\n",
    "capturing = False\n",
    "val = 0\n",
    "\n",
    "while True:\n",
    "  ret, frame = cap.read()\n",
    "  if capturing:\n",
    "    result_frame = detect_document(frame)\n",
    "    cv2.imshow('Document Scanner', result_frame)\n",
    "\n",
    "  else:\n",
    "    cv2.imshow('Document Scanner', frame)\n",
    "  \n",
    "  key = cv2.waitKey(1) & 0xFF\n",
    "\n",
    "  if key == ord('q'):\n",
    "    break\n",
    "  elif key == ord('c'):\n",
    "    capturing = not capturing\n",
    "    \n",
    "    if capturing:\n",
    "      print('Capturing mode enabled.')\n",
    "    else:\n",
    "      if result_frame is not None:\n",
    "        cv2.imwrite('scanned_document.jpg', result_frame)\n",
    "        print(\"Document captured.\")\n",
    "\n",
    "\n",
    "cap.release()\n",
    "cv2.destroyAllWindows()"
   ]
  },
  {
   "cell_type": "code",
   "execution_count": null,
   "id": "a9210486",
   "metadata": {},
   "outputs": [],
   "source": []
  }
 ],
 "metadata": {
  "kernelspec": {
   "display_name": "Python 3 (ipykernel)",
   "language": "python",
   "name": "python3"
  },
  "language_info": {
   "codemirror_mode": {
    "name": "ipython",
    "version": 3
   },
   "file_extension": ".py",
   "mimetype": "text/x-python",
   "name": "python",
   "nbconvert_exporter": "python",
   "pygments_lexer": "ipython3",
   "version": "3.11.7"
  }
 },
 "nbformat": 4,
 "nbformat_minor": 5
}
